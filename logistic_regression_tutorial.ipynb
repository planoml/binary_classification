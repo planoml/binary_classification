import numpy as np
import pandas as pd
from sklearn.model_selection import train_test_split
from sklearn.linear_model import LogisticRegression
from sklearn.metrics import accuracy_score

# Lesson 1: Introduction to Supervised Learning

"""
## What is Supervised Learning?
Supervised learning is a type of machine learning where the model is trained on a labeled dataset. This means that for every input data point, there is a corresponding correct output. The goal of the model is to learn the mapping between inputs and outputs so it can make accurate predictions on new, unseen data.
"""

"""
## Types of Supervised Learning
### 1. Classification
- Email spam detection (Spam vs. Not Spam)
- Handwritten digit recognition (Digits 0-9)
- Medical diagnosis (Diseased vs. Healthy)

### 2. Regression
- Predicting house prices
- Forecasting stock market trends
- Estimating temperature
"""

"""
## Steps in Supervised Learning
1. Data Collection
2. Data Preprocessing
3. Splitting Data
4. Model Selection
5. Training the Model
6. Evaluating the Model
7. Fine-tuning
8. Making Predictions
"""

"""
## Real-World Applications
- Healthcare: Disease prediction based on patient data.
- Finance: Credit scoring and fraud detection.
- Retail: Product recommendation systems.
- Autonomous Vehicles: Object recognition for safe navigation.
"""

"""
## Hands-on Example: Implementing Supervised Learning in Python
Here’s a real-world example of implementing supervised learning using Scikit-learn with a dataset predicting whether a bank customer will churn based on their account activity:
"""

# Sample dataset representing bank customer behavior
data = {
    'account_balance': [5000, 2000, 10000, 300, 7000, 12000, 1500, 4000, 8000, 2500],
    'transaction_count': [30, 10, 50, 5, 45, 60, 8, 25, 55, 12],
    'churn': [0, 1, 0, 1, 0, 0, 1, 0, 0, 1]
}

df = pd.DataFrame(data)
X = df[['account_balance', 'transaction_count']]
y = df['churn']

# Splitting the dataset
X_train, X_test, y_train, y_test = train_test_split(X, y, test_size=0.2, random_state=42)

# Training the model
model = LogisticRegression()
model.fit(X_train, y_train)

# Making predictions
y_pred = model.predict(X_test)

# Evaluating the model
accuracy = accuracy_score(y_test, y_pred)
print(f'Accuracy: {accuracy:.2f}')

"""
## Summary
Supervised learning is a fundamental concept in machine learning, used in a wide range of applications. It involves training models on labeled data to make accurate predictions. By understanding classification and regression techniques, software engineers can build powerful ML applications.
"""

"""
### Next Steps
In the next lesson, we will dive deeper into Classification Algorithms, exploring their working principles, advantages, and implementation in Python.
"""
